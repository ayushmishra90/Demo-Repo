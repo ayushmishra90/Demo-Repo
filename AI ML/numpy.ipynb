{
 "cells": [
  {
   "cell_type": "markdown",
   "id": "6705532d-9db1-4208-9fc7-c7feaabcfe06",
   "metadata": {},
   "source": [
    "# NUMPY - same type of data in list #"
   ]
  },
  {
   "cell_type": "code",
   "execution_count": 5,
   "id": "c208be6f-0878-4739-a820-a199bf76a5c7",
   "metadata": {},
   "outputs": [
    {
     "name": "stdout",
     "output_type": "stream",
     "text": [
      "[1 2 4 5 6 6]\n",
      "[1. 2. 4. 5. 6. 6.]\n",
      "<class 'numpy.ndarray'>\n",
      "float32\n"
     ]
    }
   ],
   "source": [
    "# from here numpy started\n",
    "import numpy as np\n",
    "a = np.array([1,2,4,5,6,6])\n",
    "b = np.array((1,2,4,5,6,6),dtype='f')\n",
    "print(a)\n",
    "print(b)\n",
    "print(type(a))\n",
    "print(b.dtype)"
   ]
  },
  {
   "cell_type": "code",
   "execution_count": 27,
   "id": "a73618aa-b916-4f4d-adf2-b5a70f27ab3c",
   "metadata": {},
   "outputs": [
    {
     "name": "stdout",
     "output_type": "stream",
     "text": [
      "2\n",
      "56\n",
      "3\n",
      "1\n",
      "3\n"
     ]
    }
   ],
   "source": [
    "a=np.array([[2,34,5,5,54],[43,34,34,56,3],[435,345,45,45,87]])\n",
    "print(a.ndim)\n",
    "print(a[1,3])\n",
    "b=np.array([[[2,34,5,5,54],[43,34,34,56,3],[435,345,45,45,87]],[[2,34,5,6,3],[32,56,34,87,5],[1,1,1,1,1]]])\n",
    "print(b.ndim)\n",
    "print(b[1,2,3])\n",
    "c = np.array([[1,2,3,34],[1,2,3,-1]])\n",
    "print(c[1,2])"
   ]
  },
  {
   "cell_type": "code",
   "execution_count": null,
   "id": "c2e515c4-df04-4340-b4e9-562c5faa8764",
   "metadata": {},
   "outputs": [],
   "source": []
  }
 ],
 "metadata": {
  "kernelspec": {
   "display_name": "Python 3 (ipykernel)",
   "language": "python",
   "name": "python3"
  },
  "language_info": {
   "codemirror_mode": {
    "name": "ipython",
    "version": 3
   },
   "file_extension": ".py",
   "mimetype": "text/x-python",
   "name": "python",
   "nbconvert_exporter": "python",
   "pygments_lexer": "ipython3",
   "version": "3.11.7"
  }
 },
 "nbformat": 4,
 "nbformat_minor": 5
}
